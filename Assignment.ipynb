{
  "nbformat": 4,
  "nbformat_minor": 0,
  "metadata": {
    "colab": {
      "provenance": [],
      "authorship_tag": "ABX9TyMt4v9JsOzKYx0Dr3wJmvOX",
      "include_colab_link": true
    },
    "kernelspec": {
      "name": "python3",
      "display_name": "Python 3"
    },
    "language_info": {
      "name": "python"
    }
  },
  "cells": [
    {
      "cell_type": "markdown",
      "metadata": {
        "id": "view-in-github",
        "colab_type": "text"
      },
      "source": [
        "<a href=\"https://colab.research.google.com/github/Riya-Wazir/ITO-804-Python-Programming-/blob/main/Assignment.ipynb\" target=\"_parent\"><img src=\"https://colab.research.google.com/assets/colab-badge.svg\" alt=\"Open In Colab\"/></a>"
      ]
    },
    {
      "cell_type": "code",
      "execution_count": 1,
      "metadata": {
        "colab": {
          "base_uri": "https://localhost:8080/",
          "height": 0
        },
        "id": "cK0V29sGLO6Y",
        "outputId": "6c9146ba-656e-49c2-e36e-f81a7fd222af"
      },
      "outputs": [
        {
          "output_type": "stream",
          "name": "stdout",
          "text": [
            "[5, 7]\n"
          ]
        }
      ],
      "source": [
        "def find_best_days(prices):\n",
        "    number = len(prices)\n",
        "    if number < 2:\n",
        "        return []\n",
        "    buy_stock = sell_stock = 0\n",
        "    max_profit = 0\n",
        "    for i in range(1, number):\n",
        "        if prices[i] < prices[buy_stock]:\n",
        "            buy_stock = i\n",
        "        elif prices[i] - prices[buy_stock] > max_profit:\n",
        "            sell_stock = i\n",
        "            max_profit = prices[i] - prices[buy_stock]\n",
        "    if max_profit == 0:\n",
        "        return []\n",
        "    return [buy_stock+1, sell_stock+1]\n",
        "\n",
        "prices = [100, 180, 260, 310, 40, 535, 695]\n",
        "print(find_best_days(prices))\n"
      ]
    },
    {
      "cell_type": "code",
      "source": [
        "from typing import List, Optional\n",
        "\n",
        "def earliest_trilogy_year(titles: List[str], years: List[int]) -> Optional[int]:\n",
        "    # sort the books by their publication years\n",
        "    books = sorted(zip(years, titles))\n",
        "    number = len(books)\n",
        "    for i in range(number - 2):\n",
        "        # check if the current book and the next two books were published in consecutive years\n",
        "        if books[i][0] + 1 == books[i + 1][0] and books[i + 1][0] + 1 == books[i + 2][0]:\n",
        "            return books[i][0]\n",
        "    return None\n",
        "\n",
        "     \n",
        "\n",
        "titles = ['The Hunger Games', 'Catching Fire', 'Mockingjay', 'The Lord of the Rings', 'The Two Towers', 'The Return of the King', 'Divergent', 'Insurgent', 'Allegiant']\n",
        "years = [2008, 2009, 2010, 1954, 1955, 1956, 2011, 2012, 2013]\n",
        "print(earliest_trilogy_year(titles, years))"
      ],
      "metadata": {
        "colab": {
          "base_uri": "https://localhost:8080/",
          "height": 0
        },
        "id": "DmKbtxo-LuDR",
        "outputId": "d0024c0d-2923-43e2-9495-9bfe7c1b91de"
      },
      "execution_count": 17,
      "outputs": [
        {
          "output_type": "stream",
          "name": "stdout",
          "text": [
            "1954\n"
          ]
        }
      ]
    },
    {
      "cell_type": "code",
      "source": [
        "import csv\n",
        "\n",
        "with open(\"/3rd_CSV.csv\") as file:\n",
        "    reader = csv.reader(file)\n",
        "    next(reader)\n",
        "    prices = {}\n",
        "    for row in reader:\n",
        "        ticker, date, price = row\n",
        "        price = float(price)\n",
        "        if ticker in prices:\n",
        "            prices[ticker].append(price)\n",
        "        else:\n",
        "            prices[ticker] = [price]\n",
        "\n",
        "for ticker, price_list in prices.items():\n",
        "    highest_price = max(price_list)\n",
        "    lowest_price = min(price_list)\n",
        "    print(f\"{ticker}: Highest Price = ${highest_price:.2f}, Lowest Price = ${lowest_price:.2f}\")\n"
      ],
      "metadata": {
        "colab": {
          "base_uri": "https://localhost:8080/",
          "height": 0
        },
        "id": "DhFdXkxPR9R-",
        "outputId": "37bf591d-adc0-4f51-9d02-66544a824a41"
      },
      "execution_count": 26,
      "outputs": [
        {
          "output_type": "stream",
          "name": "stdout",
          "text": [
            "AAPL: Highest Price = $142.20, Lowest Price = $135.90\n",
            "GOOG: Highest Price = $2125.50, Lowest Price = $2098.00\n",
            "MSFT: Highest Price = $345.20, Lowest Price = $342.10\n"
          ]
        }
      ]
    },
    {
      "cell_type": "code",
      "source": [
        "import itertools\n",
        "\n",
        "lst = [[10, 20], [40], [30, 56, 25], [10, 20], [33], [40]]\n",
        "print(\"Original List:\", lst)\n",
        "\n",
        "new_lst = list(list(x) for x in set(tuple(x) for x in lst))\n",
        "print(\"New List:\", new_lst)"
      ],
      "metadata": {
        "colab": {
          "base_uri": "https://localhost:8080/",
          "height": 0
        },
        "id": "XOhZ_J8tVZdU",
        "outputId": "fa5ae502-ce87-48a4-beed-dc8e4dcbf007"
      },
      "execution_count": 27,
      "outputs": [
        {
          "output_type": "stream",
          "name": "stdout",
          "text": [
            "Original List: [[10, 20], [40], [30, 56, 25], [10, 20], [33], [40]]\n",
            "New List: [[40], [33], [30, 56, 25], [10, 20]]\n"
          ]
        }
      ]
    },
    {
      "cell_type": "code",
      "source": [
        "lst = [1, 2, 3]\n",
        "print(\"Original List:\", lst)\n",
        "\n",
        "lst = lst[1:] + [lst[0]]\n",
        "print(\"New List:\", lst)"
      ],
      "metadata": {
        "colab": {
          "base_uri": "https://localhost:8080/",
          "height": 0
        },
        "id": "MiUVELxjRIRl",
        "outputId": "82bc4818-fa19-45a8-d9bb-0c0738061371"
      },
      "execution_count": 28,
      "outputs": [
        {
          "output_type": "stream",
          "name": "stdout",
          "text": [
            "Original List: [1, 2, 3]\n",
            "New List: [2, 3, 1]\n"
          ]
        }
      ]
    },
    {
      "cell_type": "code",
      "source": [
        "lst = [11, 45, 8, 11, 23, 45, 23, 45, 89, 11, 89]\n",
        "print(\"Original List:\", lst)\n",
        "\n",
        "count_dict = {}\n",
        "for item in lst:\n",
        "    if item in count_dict:\n",
        "        count_dict[item] += 1\n",
        "    else:\n",
        "        count_dict[item] = 1\n",
        "\n",
        "print(\"Printing count of each item:\", count_dict)"
      ],
      "metadata": {
        "colab": {
          "base_uri": "https://localhost:8080/",
          "height": 0
        },
        "id": "bbfR3iy7Wg90",
        "outputId": "29930481-707c-45a9-a5c6-c7e79f544530"
      },
      "execution_count": 29,
      "outputs": [
        {
          "output_type": "stream",
          "name": "stdout",
          "text": [
            "Original List: [11, 45, 8, 11, 23, 45, 23, 45, 89, 11, 89]\n",
            "Printing count of each item: {11: 3, 45: 3, 8: 1, 23: 2, 89: 2}\n"
          ]
        }
      ]
    }
  ]
}